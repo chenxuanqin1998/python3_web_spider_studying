{
 "cells": [
  {
   "cell_type": "code",
   "execution_count": 71,
   "metadata": {},
   "outputs": [],
   "source": [
    "import json\n",
    "import requests\n",
    "from requests.exceptions import RequestException\n",
    "import time\n",
    "\n",
    "from lxml import etree\n",
    "\n",
    "def get_one_page(url):\n",
    "    try:\n",
    "        headers = {\n",
    "            \"User-Agent\":'Mozilla/5.0 (Windows NT 10.0; WOW64) AppleWebKit/537.36 (KHTML, like Gecko)\\\n",
    "            Chrome/63.0.3239.132 Safari/537.36'\n",
    "        }\n",
    "        response = requests.get(url,headers=headers)\n",
    "        if response.status_code == 200:\n",
    "            return response.text\n",
    "        else:\n",
    "            return None\n",
    "    except RequestException:\n",
    "        return None"
   ]
  },
  {
   "cell_type": "code",
   "execution_count": 72,
   "metadata": {},
   "outputs": [],
   "source": [
    "def write_to_file(content):\n",
    "    with open('result.txt','a',encoding='utf-8') as f:\n",
    "        f.write(json.dumps(content,ensure_ascii=False)+'\\n')"
   ]
  },
  {
   "cell_type": "code",
   "execution_count": 73,
   "metadata": {},
   "outputs": [],
   "source": [
    "def parse_one_page(text):\n",
    "    html = etree.HTML(text)\n",
    "    result_title = html.xpath('//dl[@class=\"board-wrapper\"]/dd/a/@title')\n",
    "    result_index = html.xpath('//dl[@class=\"board-wrapper\"]/dd/i/text()')\n",
    "    result_original_actor = html.xpath('//dl[@class=\"board-wrapper\"]/dd//p[@class=\"star\"]/text()')\n",
    "    result_actor = [actor.strip() for actor in result_original_actor]\n",
    "    result_original_time = html.xpath('//dl[@class=\"board-wrapper\"]/dd//p[@class=\"releasetime\"]/text()')\n",
    "    result_time = [data.strip()[5:].strip() for data in result_original_time]\n",
    "    result_sorce_integer = html.xpath('//dl[@class=\"board-wrapper\"]/dd//p[@class=\"score\"]/i[@class=\"integer\"]/text()') \n",
    "    result_sorce_fraction = html.xpath('//dl[@class=\"board-wrapper\"]/dd//p[@class=\"score\"]/i[@class=\"fraction\"]/text()')\n",
    "    result_sorce = list(zip(result_sorce_integer,result_sorce_fraction))\n",
    "    result = list(zip(result_title,result_index,result_actor,result_time, result_sorce))\n",
    "    write_to_file(result)"
   ]
  },
  {
   "cell_type": "code",
   "execution_count": 74,
   "metadata": {},
   "outputs": [],
   "source": [
    "def main(offset):\n",
    "    url = 'https://maoyan.com/board/4?offset='+str(offset)\n",
    "    html = get_one_page(url)\n",
    "    parse_one_page(html)"
   ]
  },
  {
   "cell_type": "code",
   "execution_count": 75,
   "metadata": {},
   "outputs": [],
   "source": [
    "for i in range(10):\n",
    "    main(offset=i*10)\n",
    "    time.sleep(1)"
   ]
  }
 ],
 "metadata": {
  "kernelspec": {
   "display_name": "Python 3",
   "language": "python",
   "name": "python3"
  },
  "language_info": {
   "codemirror_mode": {
    "name": "ipython",
    "version": 3
   },
   "file_extension": ".py",
   "mimetype": "text/x-python",
   "name": "python",
   "nbconvert_exporter": "python",
   "pygments_lexer": "ipython3",
   "version": "3.7.0"
  }
 },
 "nbformat": 4,
 "nbformat_minor": 2
}
