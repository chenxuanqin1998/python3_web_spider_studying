{
 "cells": [
  {
   "cell_type": "code",
   "execution_count": 24,
   "metadata": {},
   "outputs": [],
   "source": [
    "import json\n",
    "import requests\n",
    "from requests.exceptions import RequestException\n",
    "import re\n",
    "import time"
   ]
  },
  {
   "cell_type": "code",
   "execution_count": 25,
   "metadata": {},
   "outputs": [],
   "source": [
    "def get_one_page(url):\n",
    "    try:\n",
    "        headers = {\n",
    "            \"User-Agent\":'Mozilla/5.0 (Windows NT 10.0; Win64; x64) AppleWebKit/537.36 (KHTML, like Gecko)\\\n",
    "            Chrome/71.0.3578.98 Safari/537.36'\n",
    "        }\n",
    "        response = requests.get(url,headers=headers)\n",
    "        if response.status_code == 200:\n",
    "            response.encoding = 'gbk'\n",
    "            return response.text\n",
    "        else:\n",
    "            return None\n",
    "    except RequestException:\n",
    "        return None"
   ]
  },
  {
   "cell_type": "code",
   "execution_count": 26,
   "metadata": {},
   "outputs": [],
   "source": [
    "def parse_one_page(html):\n",
    "    pattern = re.compile('<head>.*?<title>(.*?)最新动态.*?id=\"dtsyl\">(.*?)</span>.*?每股收益.*?class=\"tip f12\">(.*?)</span>'\n",
    "                         + '.*?id=\"jtsyl\">(.*?)</span>.*?id=\"sjl\">(.*?)</span>.*?每股净资产'\n",
    "                         + '.*?\"tip f12\">(.*?)</span>.*?净资产收益率.*?\"tip f12\">(.*?)</span>', re.S)\n",
    "    items = re.search(pattern,html)\n",
    "    return items"
   ]
  },
  {
   "cell_type": "code",
   "execution_count": 27,
   "metadata": {},
   "outputs": [],
   "source": [
    "def main(sign):\n",
    "    url = 'http://basic.10jqka.com.cn/'+str(sign)\n",
    "    html = get_one_page(url)\n",
    "#    print(html)\n",
    "    items = parse_one_page(html)\n",
    "    store_data(items)"
   ]
  },
  {
   "cell_type": "code",
   "execution_count": 28,
   "metadata": {},
   "outputs": [],
   "source": [
    "def store_data(items):\n",
    "    dic = {}\n",
    "    dic['name'] = items.group(1)\n",
    "    dic['dtsyl'] = items.group(2)\n",
    "    dic['mgsy'] = items.group(3)\n",
    "    dic['jtsyl'] = items.group(4)\n",
    "    dic['sjl'] = items.group(5)\n",
    "    dic['mgjzc'] = items.group(6)\n",
    "    dic['jzcsyl'] = items.group(7)\n",
    "    write_to_file(dic)"
   ]
  },
  {
   "cell_type": "code",
   "execution_count": 29,
   "metadata": {},
   "outputs": [],
   "source": [
    "def write_to_file(content):\n",
    "    with open('tonghuasun_result.txt','a',encoding='gbk') as f:\n",
    "        f.write(json.dumps(content,ensure_ascii=False)+'\\n')"
   ]
  },
  {
   "cell_type": "code",
   "execution_count": 30,
   "metadata": {},
   "outputs": [],
   "source": [
    "with open('沪深300.json') as f:\n",
    "    sign_data = json.load(f)\n",
    "for sign in sign_data:\n",
    "    main(sign)\n",
    "#time.sleep(1)"
   ]
  },
  {
   "cell_type": "code",
   "execution_count": 31,
   "metadata": {},
   "outputs": [],
   "source": [
    "#url = 'http://basic.10jqka.com.cn/000651'\n",
    "#html = get_one_page(url)\n",
    "#print(html)"
   ]
  }
 ],
 "metadata": {
  "kernelspec": {
   "display_name": "Python 3",
   "language": "python",
   "name": "python3"
  },
  "language_info": {
   "codemirror_mode": {
    "name": "ipython",
    "version": 3
   },
   "file_extension": ".py",
   "mimetype": "text/x-python",
   "name": "python",
   "nbconvert_exporter": "python",
   "pygments_lexer": "ipython3",
   "version": "3.7.0"
  }
 },
 "nbformat": 4,
 "nbformat_minor": 2
}
