{
 "cells": [
  {
   "cell_type": "code",
   "execution_count": 2,
   "metadata": {},
   "outputs": [],
   "source": [
    "import requests\n",
    "from pyquery import PyQuery as pq\n",
    "\n",
    "url = 'https://www.zhihu.com/explore'\n",
    "headers = {\n",
    "\"User-Agent\":'Mozilla/5.0 (Windows NT 10.0; WOW64) AppleWebKit/537.36 (KHTML, like Gecko)\\\n",
    "    Chrome/63.0.3239.132 Safari/537.36'\n",
    "}\n",
    "html = requests.get(url,headers=headers).text\n",
    "doc = pq(html)\n",
    "items = doc('.explore-tab .feed-item').items()\n",
    "\n",
    "for item in items:\n",
    "    question = item.find('h2').text()\n",
    "    author = item.find('.author-link-line').text()\n",
    "    answer = pq(item.find('.content').html()).text()\n",
    "    with open('explore.txt','a',encoding='utf-8') as f:\n",
    "    #print(author)\n",
    "        f.write('\\n'.join([question,\"\\n\",author,'\\n',answer]))\n",
    "        f.write('\\n'+'='*50 +'\\n')\n",
    "        f.close()\n",
    "    \n",
    "    "
   ]
  }
 ],
 "metadata": {
  "kernelspec": {
   "display_name": "Python 3",
   "language": "python",
   "name": "python3"
  },
  "language_info": {
   "codemirror_mode": {
    "name": "ipython",
    "version": 3
   },
   "file_extension": ".py",
   "mimetype": "text/x-python",
   "name": "python",
   "nbconvert_exporter": "python",
   "pygments_lexer": "ipython3",
   "version": "3.7.0"
  }
 },
 "nbformat": 4,
 "nbformat_minor": 2
}
